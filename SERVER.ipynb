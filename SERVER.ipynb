{
 "cells": [
  {
   "cell_type": "code",
   "execution_count": 3,
   "metadata": {
    "ExecuteTime": {
     "end_time": "2021-12-10T08:38:30.472124Z",
     "start_time": "2021-12-10T08:38:30.441124Z"
    }
   },
   "outputs": [],
   "source": [
    "from fastapi import FastAPI, Request, File, UploadFile, BackgroundTasks\n",
    "from fastapi.templating import Jinja2Templates\n",
    "import shutil\n",
    "import ocr\n",
    "import os\n",
    "import uuid\n",
    "import json\n",
    "\n",
    "app = FastAPI()\n",
    "templates = Jinja2Templates(directory=\"templates\")\n",
    "\n",
    "@app.get(\"/\")\n",
    "def home(request: Request):\n",
    "    return templates.TemplateResponse(\"index.html\", {\"request\": request})\n",
    "\n",
    "@app.post(\"/api/v1/extract_text\")\n",
    "async def extract_text(image: UploadFile = File(...)):\n",
    "    temp_file = _save_file_to_disk(image, path=\"temp\", save_as=\"temp\")\n",
    "    text = await ocr.read_image(temp_file)\n",
    "    return {\"filename\": image.filename, \"text\": text}\n",
    "\n",
    "@app.post(\"/api/v1/bulk_extract_text\")\n",
    "async def bulk_extract_text(request: Request, bg_task: BackgroundTasks):\n",
    "    images = await request.form()\n",
    "    folder_name = str(uuid.uuid4())\n",
    "    os.mkdir(folder_name)\n",
    "\n",
    "    for image in images.values():\n",
    "        temp_file = _save_file_to_disk(image, path=folder_name, save_as=image.filename)\n",
    "\n",
    "    bg_task.add_task(ocr.read_images_from_dir, folder_name, write_to_file=True)\n",
    "    return {\"task_id\": folder_name, \"num_files\": len(images)}\n",
    "\n",
    "@app.get(\"/api/v1/bulk_output/{task_id}\")\n",
    "async def bulk_output(task_id):\n",
    "    text_map = {}\n",
    "    for file_ in os.listdir(task_id):\n",
    "        if file_.endswith(\"txt\"):\n",
    "            text_map[file_] = open(os.path.join(task_id, file_)).read()\n",
    "    return {\"task_id\": task_id, \"output\": text_map}\n",
    "\n",
    "def _save_file_to_disk(uploaded_file, path=\".\", save_as=\"default\"):\n",
    "    extension = os.path.splitext(uploaded_file.filename)[-1]\n",
    "    temp_file = os.path.join(path, save_as + extension)\n",
    "    with open(temp_file, \"wb\") as buffer:\n",
    "        shutil.copyfileobj(uploaded_file.file, buffer)\n",
    "    return temp_file\n"
   ]
  }
 ],
 "metadata": {
  "hide_input": false,
  "kernelspec": {
   "display_name": "Python 3",
   "language": "python",
   "name": "python3"
  },
  "language_info": {
   "codemirror_mode": {
    "name": "ipython",
    "version": 3
   },
   "file_extension": ".py",
   "mimetype": "text/x-python",
   "name": "python",
   "nbconvert_exporter": "python",
   "pygments_lexer": "ipython3",
   "version": "3.7.6"
  },
  "varInspector": {
   "cols": {
    "lenName": 16,
    "lenType": 16,
    "lenVar": 40
   },
   "kernels_config": {
    "python": {
     "delete_cmd_postfix": "",
     "delete_cmd_prefix": "del ",
     "library": "var_list.py",
     "varRefreshCmd": "print(var_dic_list())"
    },
    "r": {
     "delete_cmd_postfix": ") ",
     "delete_cmd_prefix": "rm(",
     "library": "var_list.r",
     "varRefreshCmd": "cat(var_dic_list()) "
    }
   },
   "types_to_exclude": [
    "module",
    "function",
    "builtin_function_or_method",
    "instance",
    "_Feature"
   ],
   "window_display": false
  }
 },
 "nbformat": 4,
 "nbformat_minor": 4
}
