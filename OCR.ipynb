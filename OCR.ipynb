{
 "cells": [
  {
   "cell_type": "code",
   "execution_count": 1,
   "metadata": {
    "ExecuteTime": {
     "end_time": "2021-12-10T08:36:39.469906Z",
     "start_time": "2021-12-10T08:36:39.078333Z"
    }
   },
   "outputs": [],
   "source": [
    "import pytesseract\n",
    "import os\n",
    "import sys\n",
    "\n",
    "\n",
    "async def read_image(img_path, lang='eng'):\n",
    "    \"\"\"\n",
    "    Performs OCR on a single image\n",
    "\n",
    "    :img_path: str, path to the image file\n",
    "    :lang: str, language to be used while conversion (optional, default is english)\n",
    "\n",
    "    Returns\n",
    "    :text: str, converted text from image\n",
    "    \"\"\"\n",
    "\n",
    "    try:\n",
    "        return pytesseract.image_to_string(img_path, lang=lang)\n",
    "    except:\n",
    "        return \"[ERROR] Unable to process file: {0}\".format(img_path)\n",
    "\n",
    "async def read_images_from_dir(dir_path, lang='eng', write_to_file=False):\n",
    "    \"\"\"\n",
    "    Performs OCR on all images present in a directory\n",
    "\n",
    "    :dir_path: str, path to the directory of images\n",
    "    :lang: str, language to be used while conversion (optional, default is english)\n",
    "\n",
    "    Returns\n",
    "    :converted_text: dict, mapping of filename to converted text for each image\n",
    "    \"\"\"\n",
    "\n",
    "    converted_text = {}\n",
    "    for file_ in os.listdir(dir_path):\n",
    "        if file_.endswith(('png', 'jpeg', 'jpg')):\n",
    "            text = await read_image(os.path.join(dir_path, file_), lang=lang)\n",
    "            converted_text[os.path.join(dir_path, file_)] = text\n",
    "    if write_to_file:\n",
    "        for file_path, text in converted_text.items():\n",
    "            _write_to_file(text, os.path.splitext(file_path)[0] + \".txt\")\n",
    "    return converted_text\n",
    "\n",
    "def _write_to_file(text, file_path):\n",
    "    \"\"\"\n",
    "    Helper method to write text to a file\n",
    "    \"\"\"\n",
    "    print(\"[INFO] Writing text to file: {0}\".format(file_path))\n",
    "    with open(file_path, 'w') as fp:\n",
    "        fp.write(text)\n"
   ]
  }
 ],
 "metadata": {
  "hide_input": false,
  "kernelspec": {
   "display_name": "Python 3",
   "language": "python",
   "name": "python3"
  },
  "language_info": {
   "codemirror_mode": {
    "name": "ipython",
    "version": 3
   },
   "file_extension": ".py",
   "mimetype": "text/x-python",
   "name": "python",
   "nbconvert_exporter": "python",
   "pygments_lexer": "ipython3",
   "version": "3.7.6"
  },
  "varInspector": {
   "cols": {
    "lenName": 16,
    "lenType": 16,
    "lenVar": 40
   },
   "kernels_config": {
    "python": {
     "delete_cmd_postfix": "",
     "delete_cmd_prefix": "del ",
     "library": "var_list.py",
     "varRefreshCmd": "print(var_dic_list())"
    },
    "r": {
     "delete_cmd_postfix": ") ",
     "delete_cmd_prefix": "rm(",
     "library": "var_list.r",
     "varRefreshCmd": "cat(var_dic_list()) "
    }
   },
   "types_to_exclude": [
    "module",
    "function",
    "builtin_function_or_method",
    "instance",
    "_Feature"
   ],
   "window_display": false
  }
 },
 "nbformat": 4,
 "nbformat_minor": 4
}
